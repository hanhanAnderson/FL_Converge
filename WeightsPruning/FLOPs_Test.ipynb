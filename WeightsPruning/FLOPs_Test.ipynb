{
 "cells": [
  {
   "cell_type": "code",
   "execution_count": 1,
   "id": "d345b984",
   "metadata": {},
   "outputs": [],
   "source": [
    "import torch\n",
    "from torch import nn\n",
    "import torch.nn.functional as F"
   ]
  },
  {
   "cell_type": "code",
   "execution_count": null,
   "id": "78387230",
   "metadata": {},
   "outputs": [],
   "source": []
  },
  {
   "cell_type": "code",
   "execution_count": null,
   "id": "a1bb839f",
   "metadata": {},
   "outputs": [],
   "source": []
  },
  {
   "cell_type": "code",
   "execution_count": 32,
   "id": "79cc0646",
   "metadata": {},
   "outputs": [],
   "source": [
    "class CNNCifar(nn.Module):\n",
    "    def __init__(self, num_classes):\n",
    "        super(CNNCifar, self).__init__()\n",
    "        self.conv1 = nn.Conv2d(3, 6, 5)\n",
    "        self.pool = nn.MaxPool2d(2, 2)\n",
    "        self.conv2 = nn.Conv2d(6, 16, 5)\n",
    "        self.fc1 = nn.Linear(16 * 5 * 5, 120)\n",
    "        self.fc2 = nn.Linear(120, 84)\n",
    "        self.fc3 = nn.Linear(84, num_classes)\n",
    "\n",
    "    def forward(self, x):\n",
    "        x = self.pool(F.relu(self.conv1(x)))\n",
    "        x = self.pool(F.relu(self.conv2(x)))\n",
    "        x = x.view(-1, 16 * 5 * 5)\n",
    "        x = F.relu(self.fc1(x))\n",
    "        x = F.relu(self.fc2(x))\n",
    "        x = self.fc3(x)\n",
    "        return x\n"
   ]
  },
  {
   "cell_type": "code",
   "execution_count": 46,
   "id": "0447c3e2",
   "metadata": {
    "scrolled": false
   },
   "outputs": [
    {
     "name": "stderr",
     "output_type": "stream",
     "text": [
      "Unsupported operator aten::max_pool2d encountered 2 time(s)\n"
     ]
    },
    {
     "name": "stdout",
     "output_type": "stream",
     "text": [
      "Total FLOPs: 651720\n",
      "| module         | #parameters or shape   | #flops   |\n",
      "|:---------------|:-----------------------|:---------|\n",
      "| model          | 62.006K                | 0.652M   |\n",
      "|  conv1         |  0.456K                |  0.353M  |\n",
      "|   conv1.weight |   (6, 3, 5, 5)         |          |\n",
      "|   conv1.bias   |   (6,)                 |          |\n",
      "|  conv2         |  2.416K                |  0.24M   |\n",
      "|   conv2.weight |   (16, 6, 5, 5)        |          |\n",
      "|   conv2.bias   |   (16,)                |          |\n",
      "|  fc1           |  48.12K                |  48K     |\n",
      "|   fc1.weight   |   (120, 400)           |          |\n",
      "|   fc1.bias     |   (120,)               |          |\n",
      "|  fc2           |  10.164K               |  10.08K  |\n",
      "|   fc2.weight   |   (84, 120)            |          |\n",
      "|   fc2.bias     |   (84,)                |          |\n",
      "|  fc3           |  0.85K                 |  0.84K   |\n",
      "|   fc3.weight   |   (10, 84)             |          |\n",
      "|   fc3.bias     |   (10,)                |          |\n"
     ]
    }
   ],
   "source": [
    "net_glob = CNNCifar(num_classes = 10).to(\"cuda\")\n",
    "inp = torch.randn([1,3,32,32]).cuda()\n",
    "\n",
    "# log_probs = net_glob(inp)\n",
    "# inp = torch.randn([3,32,32]).cuda()\n",
    "flops1 = FlopCountAnalysis(net_glob, inp)\n",
    "print(\"Total FLOPs: \" + str(flops1.total()))\n",
    "print(flop_count_table(flops1))"
   ]
  },
  {
   "cell_type": "code",
   "execution_count": null,
   "id": "300648cd",
   "metadata": {},
   "outputs": [],
   "source": []
  },
  {
   "cell_type": "code",
   "execution_count": 51,
   "id": "3eec1952",
   "metadata": {},
   "outputs": [],
   "source": [
    "class MLP_from_CNN(nn.Module):\n",
    "    def __init__(self):\n",
    "        super(MLP_from_CNN, self).__init__()\n",
    "        self.fc1 = nn.Linear(16 * 5 * 5, 120)\n",
    "        self.fc2 = nn.Linear(120, 84)\n",
    "        self.fc3 = nn.Linear(84, 10)\n",
    "    def forward(self, x):\n",
    "        x = x.view(-1, 16 * 5 * 5)\n",
    "        x = F.relu(self.fc1(x))\n",
    "        x = F.relu(self.fc2(x))\n",
    "        x = self.fc3(x)\n",
    "        return x    "
   ]
  },
  {
   "cell_type": "code",
   "execution_count": 54,
   "id": "b5f0d362",
   "metadata": {},
   "outputs": [
    {
     "name": "stdout",
     "output_type": "stream",
     "text": [
      "58920\n",
      "| module       | #parameters or shape   | #flops   |\n",
      "|:-------------|:-----------------------|:---------|\n",
      "| model        | 59.134K                | 58.92K   |\n",
      "|  fc1         |  48.12K                |  48K     |\n",
      "|   fc1.weight |   (120, 400)           |          |\n",
      "|   fc1.bias   |   (120,)               |          |\n",
      "|  fc2         |  10.164K               |  10.08K  |\n",
      "|   fc2.weight |   (84, 120)            |          |\n",
      "|   fc2.bias   |   (84,)                |          |\n",
      "|  fc3         |  0.85K                 |  0.84K   |\n",
      "|   fc3.weight |   (10, 84)             |          |\n",
      "|   fc3.bias   |   (10,)                |          |\n"
     ]
    }
   ],
   "source": [
    "net_glob = MLP_from_CNN().to(\"cuda\")\n",
    "inp = torch.randn(400,1).cuda()\n",
    "flops1 = FlopCountAnalysis(net_glob, inp)\n",
    "print(flops1.total())\n",
    "print(flop_count_table(flops1))"
   ]
  },
  {
   "cell_type": "code",
   "execution_count": 45,
   "id": "40b74e24",
   "metadata": {},
   "outputs": [
    {
     "name": "stderr",
     "output_type": "stream",
     "text": [
      "Unsupported operator aten::max_pool2d encountered 2 time(s)\n"
     ]
    },
    {
     "name": "stdout",
     "output_type": "stream",
     "text": [
      "Total FLOPs: 552920\n",
      "| module         | #parameters or shape   | #flops   |\n",
      "|:---------------|:-----------------------|:---------|\n",
      "| model          | 61.53K                 | 0.553M   |\n",
      "|  conv1         |  0.38K                 |  0.294M  |\n",
      "|   conv1.weight |   (5, 3, 5, 5)         |          |\n",
      "|   conv1.bias   |   (5,)                 |          |\n",
      "|  conv2         |  2.016K                |  0.2M    |\n",
      "|   conv2.weight |   (16, 5, 5, 5)        |          |\n",
      "|   conv2.bias   |   (16,)                |          |\n",
      "|  fc1           |  48.12K                |  48K     |\n",
      "|   fc1.weight   |   (120, 400)           |          |\n",
      "|   fc1.bias     |   (120,)               |          |\n",
      "|  fc2           |  10.164K               |  10.08K  |\n",
      "|   fc2.weight   |   (84, 120)            |          |\n",
      "|   fc2.bias     |   (84,)                |          |\n",
      "|  fc3           |  0.85K                 |  0.84K   |\n",
      "|   fc3.weight   |   (10, 84)             |          |\n",
      "|   fc3.bias     |   (10,)                |          |\n"
     ]
    }
   ],
   "source": [
    "class CNNCifar2(nn.Module):\n",
    "    def __init__(self, num_classes):\n",
    "        super(CNNCifar2, self).__init__()\n",
    "        self.conv1 = nn.Conv2d(3, 5, 5)\n",
    "        self.pool = nn.MaxPool2d(2, 2)\n",
    "        self.conv2 = nn.Conv2d(5, 16, 5)\n",
    "        self.fc1 = nn.Linear(16 * 5 * 5, 120)\n",
    "        self.fc2 = nn.Linear(120, 84)\n",
    "        self.fc3 = nn.Linear(84, num_classes)\n",
    "\n",
    "    def forward(self, x):\n",
    "        x = self.pool(F.relu(self.conv1(x)))\n",
    "        x = self.pool(F.relu(self.conv2(x)))\n",
    "        x = x.view(-1, 16 * 5 * 5)\n",
    "        x = F.relu(self.fc1(x))\n",
    "        x = F.relu(self.fc2(x))\n",
    "        x = self.fc3(x)\n",
    "        return x\n",
    "net_glob = CNNCifar2(num_classes = 10).to(\"cuda\")\n",
    "inp = torch.randn([1,3,32,32]).cuda()\n",
    "\n",
    "# log_probs = net_glob(inp)\n",
    "# inp = torch.randn([3,32,32]).cuda()\n",
    "flops1 = FlopCountAnalysis(net_glob, inp)\n",
    "print(\"Total FLOPs: \" + str(flops1.total()))\n",
    "print(flop_count_table(flops1))"
   ]
  },
  {
   "cell_type": "code",
   "execution_count": null,
   "id": "f37a3ed2",
   "metadata": {},
   "outputs": [],
   "source": []
  },
  {
   "cell_type": "code",
   "execution_count": null,
   "id": "26f79b22",
   "metadata": {},
   "outputs": [],
   "source": []
  },
  {
   "cell_type": "code",
   "execution_count": null,
   "id": "dc241698",
   "metadata": {},
   "outputs": [],
   "source": []
  },
  {
   "cell_type": "code",
   "execution_count": null,
   "id": "c474a385",
   "metadata": {},
   "outputs": [],
   "source": []
  },
  {
   "cell_type": "code",
   "execution_count": 2,
   "id": "f74dda72",
   "metadata": {},
   "outputs": [],
   "source": [
    "class MLP(nn.Module):\n",
    "    def __init__(self, dim_in, dim_hidden, dim_out):\n",
    "        super(MLP, self).__init__()\n",
    "        self.layer_input = nn.Linear(dim_in, dim_hidden)\n",
    "        self.relu = nn.ReLU()\n",
    "        self.dropout = nn.Dropout()\n",
    "        self.layer_hidden = nn.Linear(dim_hidden, dim_out)\n",
    "\n",
    "    def forward(self, x):\n",
    "        x = x.view(-1, x.shape[1]*x.shape[-2]*x.shape[-1])\n",
    "        x = self.layer_input(x)\n",
    "        x = self.dropout(x)\n",
    "        x = self.relu(x)\n",
    "        x = self.layer_hidden(x)\n",
    "        return x\n"
   ]
  },
  {
   "cell_type": "code",
   "execution_count": 3,
   "id": "6aabfa73",
   "metadata": {},
   "outputs": [],
   "source": [
    "from fvcore.nn import FlopCountAnalysis\n",
    "from  fvcore.nn import flop_count_table"
   ]
  },
  {
   "cell_type": "code",
   "execution_count": 4,
   "id": "e3e8e63c",
   "metadata": {},
   "outputs": [
    {
     "name": "stderr",
     "output_type": "stream",
     "text": [
      "C:\\Users\\zhou_\\anaconda3\\envs\\gpu\\lib\\site-packages\\torch\\nn\\init.py:388: UserWarning: Initializing zero-element tensors is a no-op\n",
      "  warnings.warn(\"Initializing zero-element tensors is a no-op\")\n",
      "C:\\Users\\zhou_\\anaconda3\\envs\\gpu\\lib\\site-packages\\torch\\nn\\functional.py:1847: UserWarning: An output with one or more elements was resized since it had shape [1, 10], which does not match the required output shape [10].This behavior is deprecated, and in a future PyTorch release outputs will not be resized unless they have zero elements. You can explicitly reuse an out tensor t by resizing it, inplace, to zero elements with t.resize_(0). (Triggered internally at  ..\\aten\\src\\ATen\\native\\Resize.cpp:23.)\n",
      "  return torch._C._nn.linear(input, weight, bias)\n",
      "Unsupported operator aten::mul encountered 2 time(s)\n"
     ]
    },
    {
     "data": {
      "text/plain": [
       "0"
      ]
     },
     "execution_count": 4,
     "metadata": {},
     "output_type": "execute_result"
    }
   ],
   "source": [
    "net_glob = MLP(dim_in=784, dim_hidden= 0, dim_out=10).to(\"cuda\")\n",
    "inp = torch.randn(784,1).cuda()\n",
    "flops1 = FlopCountAnalysis(net_glob, inp)\n",
    "flops1.total()"
   ]
  },
  {
   "cell_type": "code",
   "execution_count": 25,
   "id": "f9bf80c2",
   "metadata": {},
   "outputs": [
    {
     "name": "stdout",
     "output_type": "stream",
     "text": [
      "| module                | #parameters or shape   | #flops   |\n",
      "|:----------------------|:-----------------------|:---------|\n",
      "| model                 | 0.159M                 | 0.159M   |\n",
      "|  layer_input          |  0.157M                |  0.157M  |\n",
      "|   layer_input.weight  |   (200, 784)           |          |\n",
      "|   layer_input.bias    |   (200,)               |          |\n",
      "|  layer_hidden         |  2.01K                 |  2K      |\n",
      "|   layer_hidden.weight |   (10, 200)            |          |\n",
      "|   layer_hidden.bias   |   (10,)                |          |\n"
     ]
    }
   ],
   "source": [
    "print(flop_count_table(flops1))"
   ]
  },
  {
   "cell_type": "code",
   "execution_count": 26,
   "id": "90f0aa0c",
   "metadata": {},
   "outputs": [
    {
     "name": "stderr",
     "output_type": "stream",
     "text": [
      "Unsupported operator aten::mul encountered 2 time(s)\n"
     ]
    },
    {
     "data": {
      "text/plain": [
       "119100"
      ]
     },
     "execution_count": 26,
     "metadata": {},
     "output_type": "execute_result"
    }
   ],
   "source": [
    "n1 = MLP(dim_in=784, dim_hidden=150, dim_out=10).to(\"cuda\")\n",
    "inp = torch.randn(784,1).cuda()\n",
    "flops2 = FlopCountAnalysis(n1, inp)\n",
    "flops2.total()"
   ]
  },
  {
   "cell_type": "code",
   "execution_count": 28,
   "id": "cf6fae62",
   "metadata": {},
   "outputs": [
    {
     "name": "stdout",
     "output_type": "stream",
     "text": [
      "| module                | #parameters or shape   | #flops   |\n",
      "|:----------------------|:-----------------------|:---------|\n",
      "| model                 | 0.159M                 | 0.159M   |\n",
      "|  layer_input          |  0.157M                |  0.157M  |\n",
      "|   layer_input.weight  |   (200, 784)           |          |\n",
      "|   layer_input.bias    |   (200,)               |          |\n",
      "|  layer_hidden         |  2.01K                 |  2K      |\n",
      "|   layer_hidden.weight |   (10, 200)            |          |\n",
      "|   layer_hidden.bias   |   (10,)                |          |\n"
     ]
    }
   ],
   "source": [
    "#GlobalNet 200 neurons in hidden layer\n",
    "print(flop_count_table(flops1))"
   ]
  },
  {
   "cell_type": "code",
   "execution_count": 27,
   "id": "7e42741f",
   "metadata": {},
   "outputs": [
    {
     "name": "stdout",
     "output_type": "stream",
     "text": [
      "| module                | #parameters or shape   | #flops   |\n",
      "|:----------------------|:-----------------------|:---------|\n",
      "| model                 | 0.119M                 | 0.119M   |\n",
      "|  layer_input          |  0.118M                |  0.118M  |\n",
      "|   layer_input.weight  |   (150, 784)           |          |\n",
      "|   layer_input.bias    |   (150,)               |          |\n",
      "|  layer_hidden         |  1.51K                 |  1.5K    |\n",
      "|   layer_hidden.weight |   (10, 150)            |          |\n",
      "|   layer_hidden.bias   |   (10,)                |          |\n"
     ]
    }
   ],
   "source": [
    "#N2 N3 N4 150 neurons in hidden layer\n",
    "print(flop_count_table(flops2))"
   ]
  },
  {
   "cell_type": "code",
   "execution_count": null,
   "id": "348c08be",
   "metadata": {},
   "outputs": [],
   "source": []
  },
  {
   "cell_type": "code",
   "execution_count": null,
   "id": "d5f05b95",
   "metadata": {},
   "outputs": [],
   "source": []
  },
  {
   "cell_type": "code",
   "execution_count": 5,
   "id": "21ced0ce",
   "metadata": {},
   "outputs": [],
   "source": [
    "setting_array = [8,0,0,2]"
   ]
  },
  {
   "cell_type": "code",
   "execution_count": 6,
   "id": "12ec6499",
   "metadata": {},
   "outputs": [
    {
     "name": "stdout",
     "output_type": "stream",
     "text": [
      "0 80\n",
      "80 80\n",
      "80 80\n",
      "100 100\n"
     ]
    }
   ],
   "source": [
    "a = 10 * setting_array[0]\n",
    "b = a + 10 * setting_array[1]\n",
    "c = b + 10 * setting_array[2]\n",
    "\n",
    "\n",
    "print(0,a)\n",
    "print(a,b)\n",
    "print(b,c)\n",
    "print(d,100)"
   ]
  },
  {
   "cell_type": "code",
   "execution_count": 13,
   "id": "03815618",
   "metadata": {},
   "outputs": [
    {
     "data": {
      "text/plain": [
       "'8002'"
      ]
     },
     "execution_count": 13,
     "metadata": {},
     "output_type": "execute_result"
    }
   ],
   "source": [
    "setting = str(setting_array).replace(\",\",\"\").replace(\" \",\"\").replace(\"[\",\"\").replace(\"]\",\"\")"
   ]
  },
  {
   "cell_type": "code",
   "execution_count": 10,
   "id": "f41886c6",
   "metadata": {},
   "outputs": [],
   "source": [
    "with open('temp.txt', 'a+') as f:\n",
    "    print('printing to a file.', file=f)"
   ]
  },
  {
   "cell_type": "code",
   "execution_count": null,
   "id": "f9863c53",
   "metadata": {},
   "outputs": [],
   "source": []
  },
  {
   "cell_type": "code",
   "execution_count": 3,
   "id": "7d98c3b9",
   "metadata": {},
   "outputs": [],
   "source": [
    "import winsound"
   ]
  },
  {
   "cell_type": "code",
   "execution_count": 11,
   "id": "8747cf9b",
   "metadata": {},
   "outputs": [],
   "source": [
    "duration = 1000  # milliseconds\n",
    "freq = 940  # Hz\n",
    "winsound.Beep(freq, 500)\n",
    "winsound.Beep(38, 500)\n",
    "winsound.Beep(freq, 500)\n",
    "winsound.Beep(38, 500)\n",
    "winsound.Beep(freq, 500)\n",
    "winsound.Beep(38, 500)\n",
    "winsound.Beep(freq, 500)\n",
    "winsound.Beep(38, 500)\n",
    "winsound.Beep(freq, 500)\n",
    "winsound.Beep(38, 500)\n",
    "winsound.Beep(freq, 500)\n",
    "winsound.Beep(38, 500)\n"
   ]
  },
  {
   "cell_type": "code",
   "execution_count": null,
   "id": "cbeeb234",
   "metadata": {},
   "outputs": [],
   "source": []
  },
  {
   "cell_type": "code",
   "execution_count": null,
   "id": "a3f07726",
   "metadata": {},
   "outputs": [],
   "source": []
  },
  {
   "cell_type": "code",
   "execution_count": null,
   "id": "5a5750fa",
   "metadata": {},
   "outputs": [],
   "source": []
  },
  {
   "cell_type": "code",
   "execution_count": 2,
   "id": "2af1d7bc",
   "metadata": {},
   "outputs": [],
   "source": [
    "import os"
   ]
  },
  {
   "cell_type": "code",
   "execution_count": 11,
   "id": "21966506",
   "metadata": {},
   "outputs": [
    {
     "data": {
      "text/plain": [
       "['fed_mnist_mlp_50_lep5_iidTrue_10000.png',\n",
       " 'fed_mnist_mlp_50_lep5_iidTrue_10000.txt',\n",
       " 'fed_mnist_mlp_50_lep5_iidTrue_4033.png',\n",
       " 'fed_mnist_mlp_50_lep5_iidTrue_4033.txt',\n",
       " 'fed_mnist_mlp_50_lep5_iidTrue_4123.png',\n",
       " 'fed_mnist_mlp_50_lep5_iidTrue_4123.txt',\n",
       " 'fed_mnist_mlp_50_lep5_iidTrue_4222.png',\n",
       " 'fed_mnist_mlp_50_lep5_iidTrue_4222.txt',\n",
       " 'fed_mnist_mlp_50_lep5_iidTrue_5113.png',\n",
       " 'fed_mnist_mlp_50_lep5_iidTrue_5113.txt',\n",
       " 'fed_mnist_mlp_50_lep5_iidTrue_6022.png',\n",
       " 'fed_mnist_mlp_50_lep5_iidTrue_6022.txt',\n",
       " 'fed_mnist_mlp_50_lep5_iidTrue_6112.png',\n",
       " 'fed_mnist_mlp_50_lep5_iidTrue_6112.txt',\n",
       " 'fed_mnist_mlp_50_lep5_iidTrue_7012.png',\n",
       " 'fed_mnist_mlp_50_lep5_iidTrue_7012.txt',\n",
       " 'fed_mnist_mlp_50_lep5_iidTrue_7021.png',\n",
       " 'fed_mnist_mlp_50_lep5_iidTrue_7021.txt',\n",
       " 'fed_mnist_mlp_50_lep5_iidTrue_7111.png',\n",
       " 'fed_mnist_mlp_50_lep5_iidTrue_7111.txt',\n",
       " 'fed_mnist_mlp_50_lep5_iidTrue_8011.png',\n",
       " 'fed_mnist_mlp_50_lep5_iidTrue_8011.txt',\n",
       " 'fed_mnist_mlp_50_lep5_iidTrue_9001.png',\n",
       " 'fed_mnist_mlp_50_lep5_iidTrue_9001.txt']"
      ]
     },
     "execution_count": 11,
     "metadata": {},
     "output_type": "execute_result"
    }
   ],
   "source": [
    "dir = './save/non-iid-mnist/Update_every_round'\n",
    "os.listdir(dir)"
   ]
  },
  {
   "cell_type": "code",
   "execution_count": 18,
   "id": "fe93370f",
   "metadata": {},
   "outputs": [],
   "source": [
    "ll = list(os.listdir(dir))"
   ]
  },
  {
   "cell_type": "code",
   "execution_count": 19,
   "id": "a92177a0",
   "metadata": {},
   "outputs": [
    {
     "data": {
      "text/plain": [
       "['fed_mnist_mlp_50_lep5_iidTrue_10000.png',\n",
       " 'fed_mnist_mlp_50_lep5_iidTrue_10000.txt',\n",
       " 'fed_mnist_mlp_50_lep5_iidTrue_4033.png',\n",
       " 'fed_mnist_mlp_50_lep5_iidTrue_4033.txt',\n",
       " 'fed_mnist_mlp_50_lep5_iidTrue_4123.png',\n",
       " 'fed_mnist_mlp_50_lep5_iidTrue_4123.txt',\n",
       " 'fed_mnist_mlp_50_lep5_iidTrue_4222.png',\n",
       " 'fed_mnist_mlp_50_lep5_iidTrue_4222.txt',\n",
       " 'fed_mnist_mlp_50_lep5_iidTrue_5113.png',\n",
       " 'fed_mnist_mlp_50_lep5_iidTrue_5113.txt',\n",
       " 'fed_mnist_mlp_50_lep5_iidTrue_6022.png',\n",
       " 'fed_mnist_mlp_50_lep5_iidTrue_6022.txt',\n",
       " 'fed_mnist_mlp_50_lep5_iidTrue_6112.png',\n",
       " 'fed_mnist_mlp_50_lep5_iidTrue_6112.txt',\n",
       " 'fed_mnist_mlp_50_lep5_iidTrue_7012.png',\n",
       " 'fed_mnist_mlp_50_lep5_iidTrue_7012.txt',\n",
       " 'fed_mnist_mlp_50_lep5_iidTrue_7021.png',\n",
       " 'fed_mnist_mlp_50_lep5_iidTrue_7021.txt',\n",
       " 'fed_mnist_mlp_50_lep5_iidTrue_7111.png',\n",
       " 'fed_mnist_mlp_50_lep5_iidTrue_7111.txt',\n",
       " 'fed_mnist_mlp_50_lep5_iidTrue_8011.png',\n",
       " 'fed_mnist_mlp_50_lep5_iidTrue_8011.txt',\n",
       " 'fed_mnist_mlp_50_lep5_iidTrue_9001.png',\n",
       " 'fed_mnist_mlp_50_lep5_iidTrue_9001.txt']"
      ]
     },
     "execution_count": 19,
     "metadata": {},
     "output_type": "execute_result"
    }
   ],
   "source": [
    "ll"
   ]
  },
  {
   "cell_type": "code",
   "execution_count": 22,
   "id": "831e059a",
   "metadata": {},
   "outputs": [
    {
     "name": "stdout",
     "output_type": "stream",
     "text": [
      "1000\n",
      "Training Accuracy: 97.55\n",
      "4033\n",
      "Training Accuracy: 98.57\n",
      "4123\n",
      "Training Accuracy: 97.71\n",
      "4222\n",
      "Training Accuracy: 97.34\n",
      "5113\n",
      "Training Accuracy: 97.86\n",
      "6022\n",
      "Training Accuracy: 98.58\n",
      "6112\n",
      "Training Accuracy: 98.17\n",
      "7012\n",
      "Training Accuracy: 99.16\n",
      "7021\n",
      "Training Accuracy: 98.95\n",
      "7111\n",
      "Training Accuracy: 97.77\n",
      "8011\n",
      "Training Accuracy: 98.79\n",
      "9001\n",
      "Training Accuracy: 98.41\n"
     ]
    }
   ],
   "source": [
    "for e in ll:\n",
    "    if e.endswith('.txt'):\n",
    "        id = (e.split('_')[-1][0:4])\n",
    "        with open(dir +'/' + e) as f:\n",
    "#             print(e)\n",
    "            print(id)\n",
    "            for line in f:\n",
    "                if line.startswith(\"Tr\"):\n",
    "#                     print(line)\n",
    "#                     print(line[-6:-1])\n",
    "#                     print(\"Testing Accuracy: \"+line[-6:-1])\n",
    "                    print(\"Training Accuracy: \"+line[-6:-1])\n",
    "#                     pass"
   ]
  },
  {
   "cell_type": "code",
   "execution_count": null,
   "id": "5621ab86",
   "metadata": {},
   "outputs": [],
   "source": []
  }
 ],
 "metadata": {
  "kernelspec": {
   "display_name": "Python 3",
   "language": "python",
   "name": "python3"
  },
  "language_info": {
   "codemirror_mode": {
    "name": "ipython",
    "version": 3
   },
   "file_extension": ".py",
   "mimetype": "text/x-python",
   "name": "python",
   "nbconvert_exporter": "python",
   "pygments_lexer": "ipython3",
   "version": "3.6.13"
  }
 },
 "nbformat": 4,
 "nbformat_minor": 5
}
